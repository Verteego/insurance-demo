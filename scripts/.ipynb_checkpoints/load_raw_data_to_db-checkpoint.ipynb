{
 "cells": [
  {
   "cell_type": "code",
   "execution_count": 4,
   "metadata": {
    "collapsed": true
   },
   "outputs": [],
   "source": [
    "mysql -u root -pJusebluma5  --local-infile=1 -e \"LOAD DATA LOCAL INFILE '/home/anaconda/insurance-demo/data/raw/caravan-insurance-challenge.csv' INTO TABLE insurance_demo_db.raw_data FIELDS TERMINATED BY ',' IGNORE 1 LINES;\""
   ]
  }
 ],
 "metadata": {
  "anaconda-cloud": {},
  "kernelspec": {
   "display_name": "Bash",
   "language": "bash",
   "name": "bash"
  },
  "language_info": {
   "codemirror_mode": "shell",
   "file_extension": ".sh",
   "mimetype": "text/x-sh",
   "name": "bash"
  }
 },
 "nbformat": 4,
 "nbformat_minor": 1
}
